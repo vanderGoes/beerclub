{
 "cells": [
  {
   "cell_type": "code",
   "execution_count": null,
   "metadata": {},
   "outputs": [],
   "source": [
    "import pandas as pd\n",
    "import matplotlib.pyplot as plt"
   ]
  },
  {
   "cell_type": "code",
   "execution_count": null,
   "metadata": {},
   "outputs": [],
   "source": [
    "beer_data_filename = 'beer_data.csv'"
   ]
  },
  {
   "cell_type": "markdown",
   "metadata": {},
   "source": [
    "# Load CSV Beer list"
   ]
  },
  {
   "cell_type": "code",
   "execution_count": null,
   "metadata": {},
   "outputs": [],
   "source": [
    "beer_pd = pd.read_csv(beer_data_filename)\n",
    "beer_fil_pd = beer_pd.dropna(subset=['Beer'])\n",
    "len(beer_fil_pd)"
   ]
  },
  {
   "cell_type": "markdown",
   "metadata": {},
   "source": [
    "# Visualisation"
   ]
  },
  {
   "cell_type": "code",
   "execution_count": null,
   "metadata": {},
   "outputs": [],
   "source": [
    "beer_fil_pd.plot.scatter(x='beer_abv', y='beer_ibu')"
   ]
  },
  {
   "cell_type": "code",
   "execution_count": null,
   "metadata": {},
   "outputs": [],
   "source": [
    "beer_abv = beer_fil_pd.sort_values('beer_abv', ascending=False).head(10)\n",
    "beer_abv.plot.bar(x='Beer', y='beer_abv')"
   ]
  },
  {
   "cell_type": "code",
   "execution_count": null,
   "metadata": {},
   "outputs": [],
   "source": [
    "beer_ibu = beer_fil_pd.sort_values('beer_ibu', ascending=False).head(10)\n",
    "beer_ibu.plot.bar(x='Beer', y='beer_ibu')"
   ]
  },
  {
   "cell_type": "code",
   "execution_count": null,
   "metadata": {},
   "outputs": [],
   "source": [
    "brewery_pd = beer_fil_pd.groupby(['brewery_name'])['brewery_name'].count()\\\n",
    "    .rename().reset_index().rename(columns={0:'count'}).sort_values('count', ascending=True)\n",
    "brewery_pd[brewery_pd['count'] > 1].plot.barh(x='brewery_name', y='count')"
   ]
  },
  {
   "cell_type": "code",
   "execution_count": null,
   "metadata": {},
   "outputs": [],
   "source": [
    "beer_style = beer_fil_pd.groupby('beer_style')['Beer'].count().reset_index().rename(columns={'Beer': 'count'})\n",
    "beer_style_top = beer_style.dropna(subset=['beer_style']).sort_values('count', ascending=False).head(10)\n",
    "beer_style_top.plot.bar(x='beer_style', y='count')"
   ]
  },
  {
   "cell_type": "code",
   "execution_count": null,
   "metadata": {},
   "outputs": [],
   "source": [
    "beer_month_pd = beer_fil_pd.groupby(['Month'])['beer_abv'].mean().reset_index()\n",
    "beer_month_pd.plot.bar(x='Month', y='beer_abv', title='Average alcohol percentage / month', legend=False)"
   ]
  },
  {
   "cell_type": "markdown",
   "metadata": {},
   "source": [
    "## Locations (depricated)\n",
    "https://matplotlib.org/basemap/api/basemap_api.html"
   ]
  },
  {
   "cell_type": "code",
   "execution_count": null,
   "metadata": {},
   "outputs": [],
   "source": [
    "!conda install -q basemap -y"
   ]
  },
  {
   "cell_type": "code",
   "execution_count": null,
   "metadata": {},
   "outputs": [],
   "source": [
    "!conda install -c conda-forge basemap-data-hires -y"
   ]
  },
  {
   "cell_type": "code",
   "execution_count": null,
   "metadata": {},
   "outputs": [],
   "source": [
    "# Basemap fix\n",
    "import conda\n",
    "import os\n",
    "\n",
    "conda_file_dir = conda.__file__\n",
    "conda_dir = conda_file_dir.split('lib')[0]\n",
    "proj_lib = os.path.join(os.path.join(conda_dir, 'share'), 'proj')\n",
    "os.environ[\"PROJ_LIB\"] = proj_lib"
   ]
  },
  {
   "cell_type": "code",
   "execution_count": null,
   "metadata": {},
   "outputs": [],
   "source": [
    "from mpl_toolkits.basemap import Basemap"
   ]
  },
  {
   "cell_type": "code",
   "execution_count": null,
   "metadata": {},
   "outputs": [],
   "source": [
    "beer_loc = beer_fil_pd.dropna(subset=['lng'])\n",
    "beer_loc = beer_loc[beer_loc['lng'] != 0]\n",
    "len(beer_loc)"
   ]
  },
  {
   "cell_type": "code",
   "execution_count": null,
   "metadata": {},
   "outputs": [],
   "source": [
    "plt.figure(figsize=(15,10))\n",
    "    \n",
    "map = Basemap(\n",
    "    projection='merc', \n",
    "    lat_0 = 57, \n",
    "    lon_0 = -135,\n",
    "    resolution = 'h', \n",
    "    area_thresh = 0.1,\n",
    "    llcrnrlat=50, \n",
    "    urcrnrlat=54.0,\n",
    "    llcrnrlon=2.0, \n",
    "    urcrnrlon=10.5, \n",
    "    lat_ts=51.0)\n",
    " \n",
    "map.drawcoastlines()\n",
    "map.drawcountries()\n",
    "map.fillcontinents(color = 'honeydew')\n",
    "map.drawmapboundary()\n",
    "\n",
    "for _, row in beer_loc.iterrows():\n",
    "    x,y = map(row['lng'], row['lat'])\n",
    "    map.plot(x, y, 'ro', markersize=5)\n",
    " \n",
    "plt.show()"
   ]
  },
  {
   "cell_type": "code",
   "execution_count": null,
   "metadata": {},
   "outputs": [],
   "source": [
    "lat_min = beer_loc['lat'].min()-2\n",
    "lat_max = beer_loc['lat'].max()+2\n",
    "lon_min = beer_loc['lng'].min()-2\n",
    "lon_max = beer_loc['lng'].max()+2\n",
    "\n",
    "plt.figure(figsize=(12,25))\n",
    "    \n",
    "map = Basemap(\n",
    "    projection='merc', \n",
    "    lat_0 = 57, \n",
    "    lon_0 = -135,\n",
    "    resolution = 'h', \n",
    "    area_thresh = 0.1,\n",
    "    llcrnrlat=lat_min, \n",
    "    urcrnrlat=lat_max,\n",
    "    llcrnrlon=lon_min, \n",
    "    urcrnrlon=lon_max\n",
    ")\n",
    "\n",
    "map.shadedrelief()\n",
    "\n",
    "for _, row in beer_loc.iterrows():\n",
    "    x,y = map(row['lng'], row['lat'])\n",
    "    map.plot(x, y, 'ro', markersize=5)\n",
    " \n",
    "plt.show()"
   ]
  },
  {
   "cell_type": "code",
   "execution_count": null,
   "metadata": {},
   "outputs": [],
   "source": []
  }
 ],
 "metadata": {
  "kernelspec": {
   "display_name": "Python 3",
   "language": "python",
   "name": "python3"
  },
  "language_info": {
   "codemirror_mode": {
    "name": "ipython",
    "version": 3
   },
   "file_extension": ".py",
   "mimetype": "text/x-python",
   "name": "python",
   "nbconvert_exporter": "python",
   "pygments_lexer": "ipython3",
   "version": "3.7.7"
  }
 },
 "nbformat": 4,
 "nbformat_minor": 4
}
