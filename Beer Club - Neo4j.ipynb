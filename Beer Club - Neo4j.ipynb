{
 "cells": [
  {
   "cell_type": "markdown",
   "metadata": {},
   "source": [
    "# Neo4j Docker image"
   ]
  },
  {
   "cell_type": "markdown",
   "metadata": {},
   "source": [
    "Neo4j in Docker: https://neo4j.com/developer/docker-run-neo4j/\n",
    "https://neo4j.com/docs/operations-manual/current/docker/introduction/"
   ]
  },
  {
   "cell_type": "code",
   "execution_count": null,
   "metadata": {},
   "outputs": [],
   "source": [
    "!docker run -d --publish=7474:7474 --publish=7687:7687 --env NEO4J_AUTH=none neo4j"
   ]
  },
  {
   "cell_type": "markdown",
   "metadata": {},
   "source": [
    "# Python environment"
   ]
  },
  {
   "cell_type": "code",
   "execution_count": null,
   "metadata": {},
   "outputs": [],
   "source": [
    "!pip install -q neo4j"
   ]
  },
  {
   "cell_type": "code",
   "execution_count": null,
   "metadata": {},
   "outputs": [],
   "source": [
    "from neo4j import GraphDatabase\n",
    "\n",
    "import pandas as pd\n",
    "import time"
   ]
  },
  {
   "cell_type": "markdown",
   "metadata": {},
   "source": [
    "# Data preparation"
   ]
  },
  {
   "cell_type": "code",
   "execution_count": null,
   "metadata": {},
   "outputs": [],
   "source": [
    "beer_data_filename = 'beer_data.csv'"
   ]
  },
  {
   "cell_type": "code",
   "execution_count": null,
   "metadata": {},
   "outputs": [],
   "source": [
    "beer_untappd_pd = pd.read_csv(beer_data_filename)\n",
    "beer_untappd_pd['beer_description'] = beer_untappd_pd.beer_description.str.replace(\"\\\"\", \"\")\n",
    "beer_untappd_pd = beer_untappd_pd.replace({'brewery_active': {1: True, 0: False},\n",
    "                                           'in_production': {1: True, 0: False}})\n",
    "beer_untappd_pd = beer_untappd_pd[~beer_untappd_pd['bid'].isnull()]"
   ]
  },
  {
   "cell_type": "markdown",
   "metadata": {},
   "source": [
    "# Neo4j connection\n",
    "Docs: https://neo4j.com/docs/api/python-driver/4.0-preview/"
   ]
  },
  {
   "cell_type": "code",
   "execution_count": null,
   "metadata": {},
   "outputs": [],
   "source": [
    "neo4j_driver = GraphDatabase.driver(\"bolt://localhost:7687\", \n",
    "                                   auth=(\"neo4j\", \"neo4j\"), \n",
    "                                   encrypted=False)"
   ]
  },
  {
   "cell_type": "code",
   "execution_count": null,
   "metadata": {},
   "outputs": [],
   "source": [
    "for _, row in beer_untappd_pd.iterrows():\n",
    "    with neo4_driver.session() as session:\n",
    "        # Create or update beer and style\n",
    "        query_beer = f\"\"\"MERGE (b:beer {{id: {row['bid']}}})\n",
    "        MERGE (s:style {{style: \\\"{row['beer_style']}\\\"}})\n",
    "        MERGE (b)-[:STYLE]->(s)\n",
    "        SET b.beer_name = \\\"{row['beer_name']}\\\",\n",
    "            b.abv = {row['beer_abv']},\n",
    "            b.ibu = {row['beer_ibu']},\n",
    "            b.description = \\\"{row['beer_description']}\\\"\n",
    "        \"\"\"\n",
    "        session.run(query_beer)\n",
    "\n",
    "        # Create or update brewery\n",
    "        query_brewery = f\"\"\"\n",
    "        MERGE (b:beer {{id: {row['bid']}}})\n",
    "        MERGE (y:brewery {{id: {row['brewery_id']}}})\n",
    "        MERGE (b)-[:BREWED_BY]->(y)\n",
    "        SET y.brewery_name = \\\"{row['brewery_name']}\\\",\n",
    "            y.url = \\\"{row['url']}\\\"\n",
    "            \"\"\"\n",
    "        session.run(query_brewery)\n",
    "\n",
    "        # Create or update brewery location\n",
    "        query_location = f\"\"\"\n",
    "            MERGE (y:brewery {{id: {row['brewery_id']}}})\n",
    "            MERGE (i:city {{city_name: \\\"{row['brewery_city']}\\\"}})\n",
    "            MERGE (y)-[:LOCATED_IN]->(i)\"\"\"\n",
    "        \n",
    "        if str(row['brewery_state']) != 'nan':\n",
    "            query_location += f\"\"\"\n",
    "            MERGE (s:state {{state_name: \\\"{row['brewery_state']}\\\"}})\n",
    "            MERGE (i)-[:LOCATED_IN]->(s)\"\"\"\n",
    "\n",
    "        if str(row['country_name']) != 'nan':\n",
    "            query_location += f\"\"\"\n",
    "            MERGE (c:country {{country_name: \\\"{row['country_name']}\\\"}})\n",
    "            MERGE (s)-[:LOCATED_IN]->(c)\"\"\"\n",
    "            \n",
    "        session.run(query_location)"
   ]
  },
  {
   "cell_type": "code",
   "execution_count": null,
   "metadata": {},
   "outputs": [],
   "source": [
    "neo4j_driver.close()"
   ]
  },
  {
   "cell_type": "code",
   "execution_count": null,
   "metadata": {},
   "outputs": [],
   "source": []
  }
 ],
 "metadata": {
  "kernelspec": {
   "display_name": "Python 3",
   "language": "python",
   "name": "python3"
  },
  "language_info": {
   "codemirror_mode": {
    "name": "ipython",
    "version": 3
   },
   "file_extension": ".py",
   "mimetype": "text/x-python",
   "name": "python",
   "nbconvert_exporter": "python",
   "pygments_lexer": "ipython3",
   "version": "3.7.7"
  }
 },
 "nbformat": 4,
 "nbformat_minor": 4
}
