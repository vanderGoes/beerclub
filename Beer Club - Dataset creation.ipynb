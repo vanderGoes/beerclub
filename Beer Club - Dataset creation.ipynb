{
 "cells": [
  {
   "cell_type": "code",
   "execution_count": null,
   "metadata": {},
   "outputs": [],
   "source": [
    "!pip install -q fuzzywuzzy python-dotenv "
   ]
  },
  {
   "cell_type": "code",
   "execution_count": null,
   "metadata": {},
   "outputs": [],
   "source": [
    "!pip install -q --upgrade google-api-python-client google-auth-httplib2 google-auth-oauthlib"
   ]
  },
  {
   "cell_type": "code",
   "execution_count": null,
   "metadata": {},
   "outputs": [],
   "source": [
    "from ast import literal_eval\n",
    "from dotenv import load_dotenv\n",
    "from fuzzywuzzy import fuzz\n",
    "from googleapiclient.discovery import build\n",
    "from google_auth_oauthlib.flow import InstalledAppFlow\n",
    "from google.auth.transport.requests import Request\n",
    "\n",
    "import numpy as np\n",
    "import os\n",
    "import pandas as pd\n",
    "import pickle\n",
    "import requests"
   ]
  },
  {
   "cell_type": "markdown",
   "metadata": {},
   "source": [
    "# Environment variables\n",
    "Get your credentials for the Google Spreadsheet API via: https://developers.google.com/sheets/api/quickstart/python\n",
    "\n",
    "Some credentials are stored in a .env file.\n",
    "https://github.com/theskumar/python-dotenv"
   ]
  },
  {
   "cell_type": "code",
   "execution_count": 35,
   "metadata": {},
   "outputs": [],
   "source": [
    "# Load variables in .env file.\n",
    "load_dotenv()\n",
    "\n",
    "# Google Spreadsheet API\n",
    "SCOPES = ['https://www.googleapis.com/auth/spreadsheets.readonly']\n",
    "SPREADSHEET_ID = os.getenv('SPREADSHEET_ID')\n",
    "SPREADSHEET_RANGE = 'Beer Club official list!B1:D'\n",
    "local_server_port = 8000\n",
    "\n",
    "# Untappd API tokens\n",
    "UNTAPPD_CLIENT_ID = os.getenv('UNTAPPD_CLIENT_ID')\n",
    "UNTAPPD_CLIENT_SECRET = os.getenv('UNTAPPD_CLIENT_SECRET')\n",
    "\n",
    "# Filenames for data storage\n",
    "beer_list_filename = 'beer_list.csv'\n",
    "beer_data_filename = 'beer_data.csv'"
   ]
  },
  {
   "cell_type": "markdown",
   "metadata": {},
   "source": [
    "# Google Spreadsheet API"
   ]
  },
  {
   "cell_type": "code",
   "execution_count": 36,
   "metadata": {},
   "outputs": [],
   "source": [
    "# Create connection with Google Spreadsheat\n",
    "creds = None\n",
    "\n",
    "# The file token.pickle stores the user's access and refresh tokens, and is\n",
    "# created automatically when the authorization flow completes for the first\n",
    "# time.\n",
    "if os.path.exists('token.pickle'):\n",
    "    with open('token.pickle', 'rb') as token:\n",
    "        creds = pickle.load(token)\n",
    "        \n",
    "# If there are no (valid) credentials available, let the user log in.\n",
    "if not creds or not creds.valid:\n",
    "    if creds and creds.expired and creds.refresh_token:\n",
    "        creds.refresh(Request())\n",
    "    else:\n",
    "        flow = InstalledAppFlow.from_client_secrets_file(\n",
    "            'credentials.json', SCOPES)\n",
    "        creds = flow.run_local_server(port=local_server_port)\n",
    "    \n",
    "    # Save the credentials for the next run\n",
    "    with open('token.pickle', 'wb') as token:\n",
    "        pickle.dump(creds, token)\n",
    "\n",
    "service = build('sheets', 'v4', credentials=creds)"
   ]
  },
  {
   "cell_type": "code",
   "execution_count": 37,
   "metadata": {},
   "outputs": [],
   "source": [
    "# Call the Sheets API\n",
    "sheet = service.spreadsheets()\n",
    "result = sheet.values().get(spreadsheetId=SPREADSHEET_ID,\n",
    "                            range=SPREADSHEET_RANGE).execute()\n",
    "values = result.get('values', [])\n",
    "\n",
    "# Create Pandas dataframe from spreadsheet values, including headers\n",
    "beer_pd = pd.DataFrame(values[1:], columns=values[0])"
   ]
  },
  {
   "cell_type": "markdown",
   "metadata": {},
   "source": [
    "# Data preparation"
   ]
  },
  {
   "cell_type": "code",
   "execution_count": 38,
   "metadata": {},
   "outputs": [],
   "source": [
    "beer_pd['Date'] = beer_pd['Date'].replace(r'', None, regex=True).ffill()"
   ]
  },
  {
   "cell_type": "code",
   "execution_count": 39,
   "metadata": {},
   "outputs": [],
   "source": [
    "# Drop Bringer column for privacy reasons\n",
    "beer_pd = beer_pd.drop(['Bringer'], axis=1)\n",
    "\n",
    "# Drop rows with multiple bringers\n",
    "beer_pd = beer_pd.dropna(subset=['Beer'])"
   ]
  },
  {
   "cell_type": "code",
   "execution_count": 40,
   "metadata": {},
   "outputs": [],
   "source": [
    "# Drop rows of home brews and other miscellaneous\n",
    "no_brewery = [\"Videoland Weizen\", \"Diko's Imperial Stout\", \"dedataclub.nl White and Blue Label\", \"Miscellaneous\"]\n",
    "beer_pd = beer_pd[~beer_pd['Beer'].isin(no_brewery)]\n",
    "# Fix Gooische Bierbrouwerij Blond and Goud"
   ]
  },
  {
   "cell_type": "code",
   "execution_count": 41,
   "metadata": {},
   "outputs": [],
   "source": [
    "beer_pd['Date'] = pd.to_datetime(beer_pd['Date'], format='%d-%m-%Y')\n",
    "beer_pd['Month'] = beer_pd.Date.dt.month"
   ]
  },
  {
   "cell_type": "code",
   "execution_count": 42,
   "metadata": {},
   "outputs": [],
   "source": [
    "# Split rows with multiple beers during a session\n",
    "beer_pd = beer_pd.drop('Beer', axis=1).join(beer_pd['Beer'].str.split('\\n', expand=True)\\\n",
    "                             .stack().reset_index(level=1, drop=True).rename('Beer')).reset_index(drop=True)"
   ]
  },
  {
   "cell_type": "code",
   "execution_count": 43,
   "metadata": {},
   "outputs": [],
   "source": [
    "beer_pd.to_csv(beer_list_filename, index=False)"
   ]
  },
  {
   "cell_type": "code",
   "execution_count": 44,
   "metadata": {},
   "outputs": [
    {
     "data": {
      "text/plain": [
       "129"
      ]
     },
     "execution_count": 44,
     "metadata": {},
     "output_type": "execute_result"
    }
   ],
   "source": [
    "len(beer_pd)"
   ]
  },
  {
   "cell_type": "markdown",
   "metadata": {},
   "source": [
    "# Untappd API\n",
    "https://untappd.com/api/docs/v4"
   ]
  },
  {
   "cell_type": "code",
   "execution_count": 45,
   "metadata": {},
   "outputs": [],
   "source": [
    "search_untappd = 'https://api.untappd.com/v4/search/beer'"
   ]
  },
  {
   "cell_type": "code",
   "execution_count": 46,
   "metadata": {},
   "outputs": [],
   "source": [
    "def search_beer_uptappd(x):\n",
    "    try:\n",
    "        response = requests.get(search_untappd, params = {'client_id': UNTAPPD_CLIENT_ID,\n",
    "                                            'client_secret': UNTAPPD_CLIENT_SECRET,\n",
    "                                            'q': x}).json()\n",
    "        res_beers = response['response']['beers']\n",
    "\n",
    "        beer = res_beers['items'][0]['beer'] if res_beers['count'] > 0 else {}\n",
    "        brewery = res_beers['items'][0]['brewery'] if res_beers['count'] > 0 else {}\n",
    "\n",
    "        beer_brewery = beer.copy()\n",
    "        beer_brewery.update(brewery)\n",
    "\n",
    "        return beer_brewery\n",
    "    except:\n",
    "        return None"
   ]
  },
  {
   "cell_type": "markdown",
   "metadata": {},
   "source": [
    "## Split data enrichment to API limit\n",
    "_\"The default limit for API access is 100 calls per hour per key.\"_"
   ]
  },
  {
   "cell_type": "code",
   "execution_count": 47,
   "metadata": {},
   "outputs": [
    {
     "name": "stdout",
     "output_type": "stream",
     "text": [
      "Beers to be processed through Untappd: 2\n"
     ]
    }
   ],
   "source": [
    "if os.path.isfile(beer_data_filename):\n",
    "    beer_untappd_pd = pd.read_csv(beer_data_filename)\n",
    "    beer_untappd_pd = beer_untappd_pd[beer_untappd_pd.beer_name.notnull()]\n",
    "    \n",
    "    beer_process_pd = beer_pd[beer_pd.Beer.isin(set(beer_pd.Beer).difference(beer_untappd_pd.Beer))]\n",
    "\n",
    "else:\n",
    "    beer_process_pd = beer_pd.copy()\n",
    "\n",
    "print(\"Beers to be processed through Untappd:\", len(beer_process_pd))"
   ]
  },
  {
   "cell_type": "code",
   "execution_count": 48,
   "metadata": {},
   "outputs": [
    {
     "data": {
      "text/html": [
       "<div>\n",
       "<style scoped>\n",
       "    .dataframe tbody tr th:only-of-type {\n",
       "        vertical-align: middle;\n",
       "    }\n",
       "\n",
       "    .dataframe tbody tr th {\n",
       "        vertical-align: top;\n",
       "    }\n",
       "\n",
       "    .dataframe thead th {\n",
       "        text-align: right;\n",
       "    }\n",
       "</style>\n",
       "<table border=\"1\" class=\"dataframe\">\n",
       "  <thead>\n",
       "    <tr style=\"text-align: right;\">\n",
       "      <th></th>\n",
       "      <th>Date</th>\n",
       "      <th>Month</th>\n",
       "      <th>Beer</th>\n",
       "    </tr>\n",
       "  </thead>\n",
       "  <tbody>\n",
       "    <tr>\n",
       "      <th>77</th>\n",
       "      <td>2019-01-11</td>\n",
       "      <td>1</td>\n",
       "      <td>Hert Vijlener Bosbier</td>\n",
       "    </tr>\n",
       "    <tr>\n",
       "      <th>87</th>\n",
       "      <td>2019-03-29</td>\n",
       "      <td>3</td>\n",
       "      <td>Hoop Sweet Spring Bison Grass Bock</td>\n",
       "    </tr>\n",
       "  </tbody>\n",
       "</table>\n",
       "</div>"
      ],
      "text/plain": [
       "         Date  Month                                Beer\n",
       "77 2019-01-11      1               Hert Vijlener Bosbier\n",
       "87 2019-03-29      3  Hoop Sweet Spring Bison Grass Bock"
      ]
     },
     "execution_count": 48,
     "metadata": {},
     "output_type": "execute_result"
    }
   ],
   "source": [
    "beer_process_pd"
   ]
  },
  {
   "cell_type": "code",
   "execution_count": 49,
   "metadata": {},
   "outputs": [],
   "source": [
    "untappd_pd = beer_process_pd.copy()\n",
    "untappd_pd = untappd_pd.drop(['Date', 'Month'], axis=1).drop_duplicates()\n",
    "untappd_pd = untappd_pd[:100]"
   ]
  },
  {
   "cell_type": "code",
   "execution_count": 50,
   "metadata": {},
   "outputs": [
    {
     "data": {
      "text/plain": [
       "2"
      ]
     },
     "execution_count": 50,
     "metadata": {},
     "output_type": "execute_result"
    }
   ],
   "source": [
    "untappd_pd['untappd'] = untappd_pd.Beer.apply(search_beer_uptappd)\n",
    "untappd_pd = untappd_pd[untappd_pd.untappd != {}]\n",
    "len(untappd_pd)"
   ]
  },
  {
   "cell_type": "code",
   "execution_count": 53,
   "metadata": {},
   "outputs": [],
   "source": [
    "if len(untappd_pd) > 0:\n",
    "    untappd_pd = untappd_pd.drop(['wish_list'], axis=1)\n",
    "    untappd_pd = untappd_pd.join(untappd_pd.untappd.apply(pd.Series))\n",
    "    untappd_pd = untappd_pd.drop(['untappd'], axis=1)\n",
    "    untappd_pd = untappd_pd.join(untappd_pd.location.apply(pd.Series))\n",
    "    untappd_pd = untappd_pd.drop(['location'], axis=1)\n",
    "    untappd_pd = untappd_pd.join(untappd_pd.contact.apply(pd.Series))\n",
    "    untappd_pd = untappd_pd.drop(['contact'], axis=1)\n",
    "    \n",
    "    if os.path.isfile(beer_data_filename):\n",
    "        untappd_stored_pd = pd.read_csv(beer_data_filename).drop(['Date', 'Month'], axis=1)\n",
    "        untappd_stored_pd = untappd_stored_pd[untappd_stored_pd.beer_name.notnull()]\n",
    "\n",
    "        untappd_concat_pd = pd.concat([untappd_stored_pd, untappd_pd], sort=True).drop_duplicates()\n",
    "    else:\n",
    "        untappd_concat_pd = untappd_pd[untappd_pd.beer_name.notnull()]\n",
    "\n",
    "    beer_untappd_pd = beer_pd.merge(untappd_concat_pd, on='Beer', how='left')\n",
    "    beer_untappd_pd.to_csv(beer_data_filename, index=False)\n",
    "else:\n",
    "    beer_untappd_pd = pd.read_csv(beer_data_filename).drop(['Date', 'Month'], axis=1)\n",
    "    beer_untappd_pd = beer_untappd_pd[beer_untappd_pd.beer_name.notnull()]"
   ]
  },
  {
   "cell_type": "markdown",
   "metadata": {},
   "source": [
    "# Quality check"
   ]
  },
  {
   "cell_type": "markdown",
   "metadata": {},
   "source": [
    "## Untappd ratio"
   ]
  },
  {
   "cell_type": "code",
   "execution_count": 54,
   "metadata": {},
   "outputs": [
    {
     "name": "stdout",
     "output_type": "stream",
     "text": [
      "Untappd ratio: 129/129 (100.0%)\n"
     ]
    }
   ],
   "source": [
    "beer_list_len = len(beer_pd)\n",
    "beer_untappd_len = len(beer_untappd_pd[beer_untappd_pd.beer_name.notnull()])\n",
    "untappd_ratio = round((beer_untappd_len / beer_list_len)*100, 1)\n",
    "print(f\"Untappd ratio: {beer_untappd_len}/{beer_list_len} ({untappd_ratio}%)\")"
   ]
  },
  {
   "cell_type": "markdown",
   "metadata": {},
   "source": [
    "## Name match ratio"
   ]
  },
  {
   "cell_type": "code",
   "execution_count": 66,
   "metadata": {},
   "outputs": [
    {
     "data": {
      "text/plain": [
       "count    129.000000\n",
       "mean      92.457364\n",
       "std       12.311077\n",
       "min       58.000000\n",
       "25%       91.000000\n",
       "50%      100.000000\n",
       "75%      100.000000\n",
       "max      100.000000\n",
       "Name: match_ratio, dtype: float64"
      ]
     },
     "execution_count": 66,
     "metadata": {},
     "output_type": "execute_result"
    }
   ],
   "source": [
    "beer_untappd_pd['match_ratio'] = beer_untappd_pd.apply(lambda x: fuzz.partial_ratio(x['Beer'], x['brewery_name'] + \" \" + x['beer_name']) \n",
    "                                       if len(str(x['brewery_name'])) > 3 else None, axis=1)\n",
    "beer_untappd_pd['match_ratio'].describe()"
   ]
  },
  {
   "cell_type": "code",
   "execution_count": 68,
   "metadata": {},
   "outputs": [
    {
     "data": {
      "text/html": [
       "<div>\n",
       "<style scoped>\n",
       "    .dataframe tbody tr th:only-of-type {\n",
       "        vertical-align: middle;\n",
       "    }\n",
       "\n",
       "    .dataframe tbody tr th {\n",
       "        vertical-align: top;\n",
       "    }\n",
       "\n",
       "    .dataframe thead th {\n",
       "        text-align: right;\n",
       "    }\n",
       "</style>\n",
       "<table border=\"1\" class=\"dataframe\">\n",
       "  <thead>\n",
       "    <tr style=\"text-align: right;\">\n",
       "      <th></th>\n",
       "      <th>Beer</th>\n",
       "      <th>brewery_name</th>\n",
       "      <th>beer_name</th>\n",
       "      <th>match_ratio</th>\n",
       "    </tr>\n",
       "  </thead>\n",
       "  <tbody>\n",
       "    <tr>\n",
       "      <th>41</th>\n",
       "      <td>Het Uiltje Dikke Lul 3Bier</td>\n",
       "      <td>Uiltje Brewing Company</td>\n",
       "      <td>Dikke lul 3 bier!</td>\n",
       "      <td>58</td>\n",
       "    </tr>\n",
       "    <tr>\n",
       "      <th>108</th>\n",
       "      <td>PAAP IPAAP</td>\n",
       "      <td>PAAP Bier Broeders</td>\n",
       "      <td>IPAAP</td>\n",
       "      <td>60</td>\n",
       "    </tr>\n",
       "    <tr>\n",
       "      <th>60</th>\n",
       "      <td>Het Uiltje Flora &amp; Fauna</td>\n",
       "      <td>Uiltje Brewing Company</td>\n",
       "      <td>Flora &amp; Fauna</td>\n",
       "      <td>62</td>\n",
       "    </tr>\n",
       "    <tr>\n",
       "      <th>117</th>\n",
       "      <td>Chimay Triple</td>\n",
       "      <td>Bières de Chimay</td>\n",
       "      <td>Chimay Cinq Cents (White)</td>\n",
       "      <td>62</td>\n",
       "    </tr>\n",
       "    <tr>\n",
       "      <th>29</th>\n",
       "      <td>Keuvel Weizen</td>\n",
       "      <td>Keuvel Bierbrouwerij</td>\n",
       "      <td>Weizen</td>\n",
       "      <td>62</td>\n",
       "    </tr>\n",
       "    <tr>\n",
       "      <th>43</th>\n",
       "      <td>Oedipus Slomo</td>\n",
       "      <td>Oedipus Brewing</td>\n",
       "      <td>Slomo</td>\n",
       "      <td>62</td>\n",
       "    </tr>\n",
       "    <tr>\n",
       "      <th>123</th>\n",
       "      <td>Barbãr Blonde</td>\n",
       "      <td>Brasserie Lefebvre</td>\n",
       "      <td>Barbãr</td>\n",
       "      <td>63</td>\n",
       "    </tr>\n",
       "    <tr>\n",
       "      <th>124</th>\n",
       "      <td>Chimay Blue</td>\n",
       "      <td>Bières de Chimay</td>\n",
       "      <td>Chimay Grande Réserve (Blue)</td>\n",
       "      <td>64</td>\n",
       "    </tr>\n",
       "    <tr>\n",
       "      <th>74</th>\n",
       "      <td>Flying Dog Raging Bitch</td>\n",
       "      <td>Flying Dog Brewery</td>\n",
       "      <td>Raging Bitch</td>\n",
       "      <td>65</td>\n",
       "    </tr>\n",
       "    <tr>\n",
       "      <th>99</th>\n",
       "      <td>The Sisters Hive Hefeweizen</td>\n",
       "      <td>The Sisters Brewery</td>\n",
       "      <td>Hive</td>\n",
       "      <td>67</td>\n",
       "    </tr>\n",
       "    <tr>\n",
       "      <th>119</th>\n",
       "      <td>Kaapse Harrie</td>\n",
       "      <td>Kaapse Brouwers</td>\n",
       "      <td>Harrie</td>\n",
       "      <td>69</td>\n",
       "    </tr>\n",
       "    <tr>\n",
       "      <th>115</th>\n",
       "      <td>Westmalle Dubbel</td>\n",
       "      <td>Brouwerij der Trappisten van Westmalle</td>\n",
       "      <td>Westmalle Trappist Dubbel</td>\n",
       "      <td>69</td>\n",
       "    </tr>\n",
       "    <tr>\n",
       "      <th>7</th>\n",
       "      <td>Maximus Brouwerij Fat Cherry</td>\n",
       "      <td>Brouwerij Maximus</td>\n",
       "      <td>Fat Cherry Barrel Aged 2020</td>\n",
       "      <td>71</td>\n",
       "    </tr>\n",
       "    <tr>\n",
       "      <th>100</th>\n",
       "      <td>Gulpener Op Stoom</td>\n",
       "      <td>Gulpener Bierbrouwerij</td>\n",
       "      <td>Op Stoom</td>\n",
       "      <td>71</td>\n",
       "    </tr>\n",
       "    <tr>\n",
       "      <th>48</th>\n",
       "      <td>Septem 8th Day</td>\n",
       "      <td>Septem Microbrewery</td>\n",
       "      <td>8th Day (8η Μέρα)</td>\n",
       "      <td>71</td>\n",
       "    </tr>\n",
       "    <tr>\n",
       "      <th>49</th>\n",
       "      <td>Septem Sunday's</td>\n",
       "      <td>Septem Microbrewery</td>\n",
       "      <td>Sunday's Honey Golden Ale</td>\n",
       "      <td>73</td>\n",
       "    </tr>\n",
       "    <tr>\n",
       "      <th>127</th>\n",
       "      <td>Gulpener Spicy Roger</td>\n",
       "      <td>Gulpener Bierbrouwerij</td>\n",
       "      <td>Spicy Roger - A Pirates Bite</td>\n",
       "      <td>75</td>\n",
       "    </tr>\n",
       "    <tr>\n",
       "      <th>30</th>\n",
       "      <td>Gulpener Plato 18.25</td>\n",
       "      <td>Gulpener Bierbrouwerij</td>\n",
       "      <td>Plato 18.25</td>\n",
       "      <td>75</td>\n",
       "    </tr>\n",
       "    <tr>\n",
       "      <th>122</th>\n",
       "      <td>Oedipus Mannenliefde</td>\n",
       "      <td>Oedipus Brewing</td>\n",
       "      <td>Mannenliefde</td>\n",
       "      <td>75</td>\n",
       "    </tr>\n",
       "    <tr>\n",
       "      <th>27</th>\n",
       "      <td>Straffe Hendrik Quadrupel</td>\n",
       "      <td>Brouwerij De Halve Maan</td>\n",
       "      <td>Straffe Hendrik Brugs Quadrupel Bier 11°</td>\n",
       "      <td>76</td>\n",
       "    </tr>\n",
       "    <tr>\n",
       "      <th>110</th>\n",
       "      <td>vandeStreek Blackbock</td>\n",
       "      <td>vandeStreek bier</td>\n",
       "      <td>BlackBock</td>\n",
       "      <td>76</td>\n",
       "    </tr>\n",
       "    <tr>\n",
       "      <th>121</th>\n",
       "      <td>Lagunitas IPA</td>\n",
       "      <td>Lagunitas Brewing Company</td>\n",
       "      <td>IPA</td>\n",
       "      <td>77</td>\n",
       "    </tr>\n",
       "    <tr>\n",
       "      <th>26</th>\n",
       "      <td>Straffe Hendrik Tripel</td>\n",
       "      <td>Brouwerij De Halve Maan</td>\n",
       "      <td>Straffe Hendrik Brugs Tripel Bier 9°</td>\n",
       "      <td>77</td>\n",
       "    </tr>\n",
       "    <tr>\n",
       "      <th>126</th>\n",
       "      <td>Maximus Diesel Stout 6</td>\n",
       "      <td>Brouwerij Maximus</td>\n",
       "      <td>Diesel</td>\n",
       "      <td>78</td>\n",
       "    </tr>\n",
       "    <tr>\n",
       "      <th>104</th>\n",
       "      <td>Gulpener Château Neubourg</td>\n",
       "      <td>Gulpener Bierbrouwerij</td>\n",
       "      <td>Château Neubourg</td>\n",
       "      <td>80</td>\n",
       "    </tr>\n",
       "    <tr>\n",
       "      <th>103</th>\n",
       "      <td>Het Uiltje FF Lekker Met Je Bek In Het Zonnetje</td>\n",
       "      <td>Uiltje Brewing Company</td>\n",
       "      <td>FF Lekker Met Je Bek In Het Zonnetje</td>\n",
       "      <td>81</td>\n",
       "    </tr>\n",
       "    <tr>\n",
       "      <th>9</th>\n",
       "      <td>Westmalle Tripel</td>\n",
       "      <td>Brouwerij der Trappisten van Westmalle</td>\n",
       "      <td>Westmalle Trappist Tripel</td>\n",
       "      <td>81</td>\n",
       "    </tr>\n",
       "    <tr>\n",
       "      <th>6</th>\n",
       "      <td>Warsteiner Winter</td>\n",
       "      <td>Warsteiner</td>\n",
       "      <td>Warsteiner Weihnacht / Winter</td>\n",
       "      <td>82</td>\n",
       "    </tr>\n",
       "    <tr>\n",
       "      <th>88</th>\n",
       "      <td>Kompaan Handlanger</td>\n",
       "      <td>Kompaan Bier / Brouwerij Kompaan</td>\n",
       "      <td>Kompaan 58 Handlanger</td>\n",
       "      <td>83</td>\n",
       "    </tr>\n",
       "    <tr>\n",
       "      <th>2</th>\n",
       "      <td>Kompaan Bloedbroeder</td>\n",
       "      <td>Kompaan Bier / Brouwerij Kompaan</td>\n",
       "      <td>Kompaan 39 Bloedbroeder</td>\n",
       "      <td>85</td>\n",
       "    </tr>\n",
       "    <tr>\n",
       "      <th>38</th>\n",
       "      <td>Gooische Bierbrouwerij Blond</td>\n",
       "      <td>Gooische Bierbrouwerij</td>\n",
       "      <td>Gooisch Blond</td>\n",
       "      <td>86</td>\n",
       "    </tr>\n",
       "    <tr>\n",
       "      <th>94</th>\n",
       "      <td>Leffe d’Été Zomerbier</td>\n",
       "      <td>Abbaye de Leffe</td>\n",
       "      <td>Leffe d'Été / Zomerbier</td>\n",
       "      <td>86</td>\n",
       "    </tr>\n",
       "  </tbody>\n",
       "</table>\n",
       "</div>"
      ],
      "text/plain": [
       "                                                Beer  \\\n",
       "41                        Het Uiltje Dikke Lul 3Bier   \n",
       "108                                       PAAP IPAAP   \n",
       "60                          Het Uiltje Flora & Fauna   \n",
       "117                                    Chimay Triple   \n",
       "29                                     Keuvel Weizen   \n",
       "43                                     Oedipus Slomo   \n",
       "123                                    Barbãr Blonde   \n",
       "124                                      Chimay Blue   \n",
       "74                           Flying Dog Raging Bitch   \n",
       "99                       The Sisters Hive Hefeweizen   \n",
       "119                                    Kaapse Harrie   \n",
       "115                                 Westmalle Dubbel   \n",
       "7                       Maximus Brouwerij Fat Cherry   \n",
       "100                                Gulpener Op Stoom   \n",
       "48                                    Septem 8th Day   \n",
       "49                                   Septem Sunday's   \n",
       "127                             Gulpener Spicy Roger   \n",
       "30                              Gulpener Plato 18.25   \n",
       "122                             Oedipus Mannenliefde   \n",
       "27                         Straffe Hendrik Quadrupel   \n",
       "110                            vandeStreek Blackbock   \n",
       "121                                    Lagunitas IPA   \n",
       "26                            Straffe Hendrik Tripel   \n",
       "126                           Maximus Diesel Stout 6   \n",
       "104                        Gulpener Château Neubourg   \n",
       "103  Het Uiltje FF Lekker Met Je Bek In Het Zonnetje   \n",
       "9                                   Westmalle Tripel   \n",
       "6                                  Warsteiner Winter   \n",
       "88                                Kompaan Handlanger   \n",
       "2                               Kompaan Bloedbroeder   \n",
       "38                      Gooische Bierbrouwerij Blond   \n",
       "94                             Leffe d’Été Zomerbier   \n",
       "\n",
       "                               brewery_name  \\\n",
       "41                   Uiltje Brewing Company   \n",
       "108                      PAAP Bier Broeders   \n",
       "60                   Uiltje Brewing Company   \n",
       "117                        Bières de Chimay   \n",
       "29                     Keuvel Bierbrouwerij   \n",
       "43                          Oedipus Brewing   \n",
       "123                      Brasserie Lefebvre   \n",
       "124                        Bières de Chimay   \n",
       "74                       Flying Dog Brewery   \n",
       "99                      The Sisters Brewery   \n",
       "119                         Kaapse Brouwers   \n",
       "115  Brouwerij der Trappisten van Westmalle   \n",
       "7                         Brouwerij Maximus   \n",
       "100                  Gulpener Bierbrouwerij   \n",
       "48                      Septem Microbrewery   \n",
       "49                      Septem Microbrewery   \n",
       "127                  Gulpener Bierbrouwerij   \n",
       "30                   Gulpener Bierbrouwerij   \n",
       "122                         Oedipus Brewing   \n",
       "27                  Brouwerij De Halve Maan   \n",
       "110                        vandeStreek bier   \n",
       "121               Lagunitas Brewing Company   \n",
       "26                  Brouwerij De Halve Maan   \n",
       "126                       Brouwerij Maximus   \n",
       "104                  Gulpener Bierbrouwerij   \n",
       "103                  Uiltje Brewing Company   \n",
       "9    Brouwerij der Trappisten van Westmalle   \n",
       "6                                Warsteiner   \n",
       "88         Kompaan Bier / Brouwerij Kompaan   \n",
       "2          Kompaan Bier / Brouwerij Kompaan   \n",
       "38                   Gooische Bierbrouwerij   \n",
       "94                          Abbaye de Leffe   \n",
       "\n",
       "                                    beer_name  match_ratio  \n",
       "41                          Dikke lul 3 bier!           58  \n",
       "108                                     IPAAP           60  \n",
       "60                              Flora & Fauna           62  \n",
       "117                 Chimay Cinq Cents (White)           62  \n",
       "29                                     Weizen           62  \n",
       "43                                      Slomo           62  \n",
       "123                                    Barbãr           63  \n",
       "124              Chimay Grande Réserve (Blue)           64  \n",
       "74                               Raging Bitch           65  \n",
       "99                                       Hive           67  \n",
       "119                                    Harrie           69  \n",
       "115                 Westmalle Trappist Dubbel           69  \n",
       "7                 Fat Cherry Barrel Aged 2020           71  \n",
       "100                                  Op Stoom           71  \n",
       "48                          8th Day (8η Μέρα)           71  \n",
       "49                  Sunday's Honey Golden Ale           73  \n",
       "127              Spicy Roger - A Pirates Bite           75  \n",
       "30                                Plato 18.25           75  \n",
       "122                              Mannenliefde           75  \n",
       "27   Straffe Hendrik Brugs Quadrupel Bier 11°           76  \n",
       "110                                 BlackBock           76  \n",
       "121                                       IPA           77  \n",
       "26       Straffe Hendrik Brugs Tripel Bier 9°           77  \n",
       "126                                    Diesel           78  \n",
       "104                          Château Neubourg           80  \n",
       "103      FF Lekker Met Je Bek In Het Zonnetje           81  \n",
       "9                   Westmalle Trappist Tripel           81  \n",
       "6               Warsteiner Weihnacht / Winter           82  \n",
       "88                      Kompaan 58 Handlanger           83  \n",
       "2                     Kompaan 39 Bloedbroeder           85  \n",
       "38                              Gooisch Blond           86  \n",
       "94                    Leffe d'Été / Zomerbier           86  "
      ]
     },
     "execution_count": 68,
     "metadata": {},
     "output_type": "execute_result"
    }
   ],
   "source": [
    "beer_untappd_pd[beer_untappd_pd['match_ratio'] < beer_untappd_pd['match_ratio'].describe()['25%']]\\\n",
    "    .sort_values('match_ratio')[['Beer', 'brewery_name', 'beer_name', 'match_ratio']]"
   ]
  },
  {
   "cell_type": "code",
   "execution_count": null,
   "metadata": {},
   "outputs": [],
   "source": []
  }
 ],
 "metadata": {
  "kernelspec": {
   "display_name": "Python 3",
   "language": "python",
   "name": "python3"
  },
  "language_info": {
   "codemirror_mode": {
    "name": "ipython",
    "version": 3
   },
   "file_extension": ".py",
   "mimetype": "text/x-python",
   "name": "python",
   "nbconvert_exporter": "python",
   "pygments_lexer": "ipython3",
   "version": "3.7.7"
  }
 },
 "nbformat": 4,
 "nbformat_minor": 4
}
