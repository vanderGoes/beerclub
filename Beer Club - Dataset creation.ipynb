{
 "cells": [
  {
   "cell_type": "code",
   "execution_count": null,
   "metadata": {},
   "outputs": [],
   "source": [
    "!pip install -q fuzzywuzzy python-dotenv "
   ]
  },
  {
   "cell_type": "code",
   "execution_count": null,
   "metadata": {},
   "outputs": [],
   "source": [
    "!pip install -q --upgrade google-api-python-client google-auth-httplib2 google-auth-oauthlib"
   ]
  },
  {
   "cell_type": "code",
   "execution_count": null,
   "metadata": {},
   "outputs": [],
   "source": [
    "from ast import literal_eval\n",
    "from dotenv import load_dotenv\n",
    "from fuzzywuzzy import fuzz\n",
    "from googleapiclient.discovery import build\n",
    "from google_auth_oauthlib.flow import InstalledAppFlow\n",
    "from google.auth.transport.requests import Request\n",
    "\n",
    "import numpy as np\n",
    "import os\n",
    "import pandas as pd\n",
    "import pickle\n",
    "import requests"
   ]
  },
  {
   "cell_type": "markdown",
   "metadata": {},
   "source": [
    "# Environment variables\n",
    "Get your credentials for the Google Spreadsheet API via: https://developers.google.com/sheets/api/quickstart/python\n",
    "\n",
    "Some credentials are stored in a .env file.\n",
    "https://github.com/theskumar/python-dotenv"
   ]
  },
  {
   "cell_type": "code",
   "execution_count": null,
   "metadata": {},
   "outputs": [],
   "source": [
    "# Load variables in .env file.\n",
    "load_dotenv()\n",
    "\n",
    "# Google Spreadsheet API\n",
    "SCOPES = ['https://www.googleapis.com/auth/spreadsheets.readonly']\n",
    "SPREADSHEET_ID = os.getenv('SPREADSHEET_ID')\n",
    "SPREADSHEET_RANGE = 'Beer Club official list!B1:D'\n",
    "local_server_port = 8000\n",
    "\n",
    "# Untappd API tokens\n",
    "UNTAPPD_CLIENT_ID = os.getenv('UNTAPPD_CLIENT_ID')\n",
    "UNTAPPD_CLIENT_SECRET = os.getenv('UNTAPPD_CLIENT_SECRET')\n",
    "\n",
    "# Filenames for data storage\n",
    "beer_list_filename = 'beer_list.csv'\n",
    "beer_data_filename = 'beer_data.csv'"
   ]
  },
  {
   "cell_type": "markdown",
   "metadata": {},
   "source": [
    "# Google Spreadsheet API"
   ]
  },
  {
   "cell_type": "code",
   "execution_count": null,
   "metadata": {},
   "outputs": [],
   "source": [
    "# Create connection with Google Spreadsheat\n",
    "creds = None\n",
    "\n",
    "# The file token.pickle stores the user's access and refresh tokens, and is\n",
    "# created automatically when the authorization flow completes for the first\n",
    "# time.\n",
    "if os.path.exists('token.pickle'):\n",
    "    with open('token.pickle', 'rb') as token:\n",
    "        creds = pickle.load(token)\n",
    "        \n",
    "# If there are no (valid) credentials available, let the user log in.\n",
    "if not creds or not creds.valid:\n",
    "    if creds and creds.expired and creds.refresh_token:\n",
    "        creds.refresh(Request())\n",
    "    else:\n",
    "        flow = InstalledAppFlow.from_client_secrets_file(\n",
    "            'credentials.json', SCOPES)\n",
    "        creds = flow.run_local_server(port=local_server_port)\n",
    "    \n",
    "    # Save the credentials for the next run\n",
    "    with open('token.pickle', 'wb') as token:\n",
    "        pickle.dump(creds, token)\n",
    "\n",
    "service = build('sheets', 'v4', credentials=creds)"
   ]
  },
  {
   "cell_type": "code",
   "execution_count": null,
   "metadata": {},
   "outputs": [],
   "source": [
    "# Call the Sheets API\n",
    "sheet = service.spreadsheets()\n",
    "result = sheet.values().get(spreadsheetId=SPREADSHEET_ID,\n",
    "                            range=SPREADSHEET_RANGE).execute()\n",
    "values = result.get('values', [])\n",
    "\n",
    "# Create Pandas dataframe from spreadsheet values, including headers\n",
    "beer_pd = pd.DataFrame(values[1:], columns=values[0])"
   ]
  },
  {
   "cell_type": "markdown",
   "metadata": {},
   "source": [
    "# Data preparation"
   ]
  },
  {
   "cell_type": "code",
   "execution_count": null,
   "metadata": {},
   "outputs": [],
   "source": [
    "beer_pd['Date'] = beer_pd['Date'].replace(r'', None, regex=True).ffill()"
   ]
  },
  {
   "cell_type": "code",
   "execution_count": null,
   "metadata": {},
   "outputs": [],
   "source": [
    "# Drop Bringer column for privacy reasons\n",
    "beer_pd = beer_pd.drop(['Bringer'], axis=1)\n",
    "\n",
    "# Drop rows with multiple bringers\n",
    "beer_pd = beer_pd.dropna(subset=['Beer'])"
   ]
  },
  {
   "cell_type": "code",
   "execution_count": null,
   "metadata": {},
   "outputs": [],
   "source": [
    "# Drop rows of home brews and other miscellaneous\n",
    "no_brewery = [\"Videoland Weizen\", \"Diko's Imperial Stout\", \"dedataclub.nl White and Blue Label\", \"Miscellaneous\"]\n",
    "beer_pd = beer_pd[~beer_pd['Beer'].isin(no_brewery)]\n",
    "# Fix Gooische Bierbrouwerij Blond and Goud"
   ]
  },
  {
   "cell_type": "code",
   "execution_count": null,
   "metadata": {},
   "outputs": [],
   "source": [
    "beer_pd['Date'] = pd.to_datetime(beer_pd['Date'], format='%d-%m-%Y')\n",
    "beer_pd['Month'] = beer_pd.Date.dt.month"
   ]
  },
  {
   "cell_type": "code",
   "execution_count": null,
   "metadata": {},
   "outputs": [],
   "source": [
    "# Split rows with multiple beers during a session\n",
    "beer_pd = beer_pd.drop('Beer', axis=1).join(beer_pd['Beer'].str.split('\\n', expand=True)\\\n",
    "                             .stack().reset_index(level=1, drop=True).rename('Beer')).reset_index(drop=True)"
   ]
  },
  {
   "cell_type": "code",
   "execution_count": null,
   "metadata": {},
   "outputs": [],
   "source": [
    "beer_pd.to_csv(beer_list_filename, index=False)"
   ]
  },
  {
   "cell_type": "code",
   "execution_count": null,
   "metadata": {},
   "outputs": [],
   "source": [
    "len(beer_pd)"
   ]
  },
  {
   "cell_type": "markdown",
   "metadata": {},
   "source": [
    "# Untappd API\n",
    "https://untappd.com/api/docs/v4"
   ]
  },
  {
   "cell_type": "code",
   "execution_count": null,
   "metadata": {},
   "outputs": [],
   "source": [
    "search_untappd = 'https://api.untappd.com/v4/search/beer'"
   ]
  },
  {
   "cell_type": "code",
   "execution_count": null,
   "metadata": {},
   "outputs": [],
   "source": [
    "def search_beer_uptappd(x):\n",
    "    try:\n",
    "        response = requests.get(search_untappd, params = {'client_id': UNTAPPD_CLIENT_ID,\n",
    "                                            'client_secret': UNTAPPD_CLIENT_SECRET,\n",
    "                                            'q': x}).json()\n",
    "        res_beers = response['response']['beers']\n",
    "\n",
    "        beer = res_beers['items'][0]['beer'] if res_beers['count'] > 0 else {}\n",
    "        brewery = res_beers['items'][0]['brewery'] if res_beers['count'] > 0 else {}\n",
    "\n",
    "        beer_brewery = beer.copy()\n",
    "        beer_brewery.update(brewery)\n",
    "\n",
    "        return beer_brewery\n",
    "    except:\n",
    "        return None"
   ]
  },
  {
   "cell_type": "markdown",
   "metadata": {},
   "source": [
    "## Split data enrichment to API limit\n",
    "_\"The default limit for API access is 100 calls per hour per key.\"_"
   ]
  },
  {
   "cell_type": "code",
   "execution_count": null,
   "metadata": {},
   "outputs": [],
   "source": [
    "if os.path.isfile(beer_data_filename):\n",
    "    beer_untappd_pd = pd.read_csv(beer_data_filename)\n",
    "    beer_untappd_pd = beer_untappd_pd[beer_untappd_pd.beer_name.notnull()]\n",
    "    \n",
    "    beer_process_pd = beer_pd[beer_pd.Beer.isin(set(beer_pd.Beer).difference(beer_untappd_pd.Beer))]\n",
    "\n",
    "else:\n",
    "    beer_process_pd = beer_pd.copy()\n",
    "\n",
    "print(\"Beers to be processed through Untappd:\", len(beer_process_pd))"
   ]
  },
  {
   "cell_type": "code",
   "execution_count": null,
   "metadata": {},
   "outputs": [],
   "source": [
    "untappd_pd = beer_process_pd.copy()\n",
    "untappd_pd = untappd_pd.drop(['Date', 'Month'], axis=1).drop_duplicates()\n",
    "untappd_pd = untappd_pd[:100]"
   ]
  },
  {
   "cell_type": "code",
   "execution_count": null,
   "metadata": {},
   "outputs": [],
   "source": [
    "untappd_pd['untappd'] = untappd_pd.Beer.apply(search_beer_uptappd)\n",
    "untappd_pd = untappd_pd[untappd_pd.untappd != {}]\n",
    "len(untappd_pd)"
   ]
  },
  {
   "cell_type": "code",
   "execution_count": null,
   "metadata": {},
   "outputs": [],
   "source": [
    "untappd_pd = untappd_pd.join(untappd_pd.untappd.apply(pd.Series))\n",
    "untappd_pd = untappd_pd.drop(['untappd'], axis=1)\n",
    "untappd_pd = untappd_pd.join(untappd_pd.location.apply(pd.Series))\n",
    "untappd_pd = untappd_pd.drop(['location', 0], axis=1)\n",
    "untappd_pd = untappd_pd.join(untappd_pd.contact.apply(pd.Series))\n",
    "untappd_pd = untappd_pd.drop(['contact', 0], axis=1)"
   ]
  },
  {
   "cell_type": "code",
   "execution_count": null,
   "metadata": {},
   "outputs": [],
   "source": [
    "if os.path.isfile(beer_data_filename):\n",
    "    untappd_stored_pd = pd.read_csv(beer_data_filename).drop(['Date', 'Month'], axis=1)\n",
    "    untappd_stored_pd = untappd_stored_pd[untappd_stored_pd.beer_name.notnull()]\n",
    "    \n",
    "    untappd_concat_pd = pd.concat([untappd_stored_pd, untappd_pd], sort=True).drop_duplicates()\n",
    "else:\n",
    "    untappd_concat_pd = untappd_pd[untappd_pd.beer_name.notnull()]\n",
    "\n",
    "beer_untappd_pd = beer_pd.merge(untappd_concat_pd, on='Beer', how='left')\n",
    "beer_untappd_pd.to_csv(beer_data_filename, index=False)"
   ]
  },
  {
   "cell_type": "markdown",
   "metadata": {},
   "source": [
    "# Quality check"
   ]
  },
  {
   "cell_type": "markdown",
   "metadata": {},
   "source": [
    "## Untappd ratio"
   ]
  },
  {
   "cell_type": "code",
   "execution_count": null,
   "metadata": {},
   "outputs": [],
   "source": [
    "beer_list_len = len(beer_untappd_pd)\n",
    "beer_untappd_len = len(beer_untappd_pd[beer_untappd_pd.beer_name.notnull()])\n",
    "untappd_ratio = round((beer_untappd_len / beer_list_len)*100, 1)\n",
    "print(f\"Untappd ratio: {beer_untappd_len}/{beer_list_len} ({untappd_ratio}%)\")"
   ]
  },
  {
   "cell_type": "code",
   "execution_count": null,
   "metadata": {},
   "outputs": [],
   "source": [
    "beer_untappd_pd[~beer_untappd_pd.beer_name.notnull()]"
   ]
  },
  {
   "cell_type": "markdown",
   "metadata": {},
   "source": [
    "## Name match ratio"
   ]
  },
  {
   "cell_type": "code",
   "execution_count": null,
   "metadata": {},
   "outputs": [],
   "source": [
    "beer_untappd_pd['match_ratio'] = beer_untappd_pd.apply(lambda x: fuzz.partial_ratio(x['Beer'], x['brewery_name'] + \" \" + x['beer_name']) \n",
    "                                       if len(str(x['brewery_name'])) > 3 else None, axis=1)\n",
    "beer_untappd_pd['match_ratio'].describe()"
   ]
  },
  {
   "cell_type": "code",
   "execution_count": null,
   "metadata": {},
   "outputs": [],
   "source": [
    "beer_untappd_pd[beer_untappd_pd['match_ratio'] < 50]"
   ]
  },
  {
   "cell_type": "code",
   "execution_count": null,
   "metadata": {},
   "outputs": [],
   "source": []
  }
 ],
 "metadata": {
  "kernelspec": {
   "display_name": "Python 3",
   "language": "python",
   "name": "python3"
  },
  "language_info": {
   "codemirror_mode": {
    "name": "ipython",
    "version": 3
   },
   "file_extension": ".py",
   "mimetype": "text/x-python",
   "name": "python",
   "nbconvert_exporter": "python",
   "pygments_lexer": "ipython3",
   "version": "3.7.7"
  }
 },
 "nbformat": 4,
 "nbformat_minor": 4
}
