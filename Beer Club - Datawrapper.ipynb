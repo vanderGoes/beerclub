{
 "cells": [
  {
   "cell_type": "code",
   "execution_count": null,
   "metadata": {},
   "outputs": [],
   "source": [
    "!pip install -q python-dotenv "
   ]
  },
  {
   "cell_type": "code",
   "execution_count": 1,
   "metadata": {},
   "outputs": [],
   "source": [
    "from dotenv import load_dotenv\n",
    "\n",
    "import json\n",
    "import os\n",
    "import pandas as pd\n",
    "import requests"
   ]
  },
  {
   "cell_type": "markdown",
   "metadata": {},
   "source": [
    "# Environment variables\n",
    "\n",
    "Get a Datawrapper API token: https://app.datawrapper.de/account/api-tokens"
   ]
  },
  {
   "cell_type": "code",
   "execution_count": 2,
   "metadata": {},
   "outputs": [],
   "source": [
    "beer_data_filename = 'beer_data.csv'\n",
    "\n",
    "# Load variables in .env file.\n",
    "load_dotenv()\n",
    "\n",
    "DATAWRAPPER_TOKEN = os.getenv('DATAWRAPPER_TOKEN')"
   ]
  },
  {
   "cell_type": "markdown",
   "metadata": {},
   "source": [
    "# Load CSV Beer list"
   ]
  },
  {
   "cell_type": "code",
   "execution_count": 3,
   "metadata": {},
   "outputs": [],
   "source": [
    "beer_pd = pd.read_csv(beer_data_filename)\n",
    "beer_fil_pd = beer_pd.dropna(subset=['Beer'])\n",
    "beer_fil_pd = beer_fil_pd.drop(['Beer', 'Date', 'Month'], axis=1).drop_duplicates()"
   ]
  },
  {
   "cell_type": "code",
   "execution_count": 4,
   "metadata": {},
   "outputs": [
    {
     "data": {
      "text/plain": [
       "127"
      ]
     },
     "execution_count": 4,
     "metadata": {},
     "output_type": "execute_result"
    }
   ],
   "source": [
    "beer_loc = beer_fil_pd.dropna(subset=['lng'])\n",
    "beer_loc = beer_loc[beer_loc['lng'] != 0]\n",
    "len(beer_loc)"
   ]
  },
  {
   "cell_type": "markdown",
   "metadata": {},
   "source": [
    "# Statistics"
   ]
  },
  {
   "cell_type": "code",
   "execution_count": 16,
   "metadata": {},
   "outputs": [
    {
     "data": {
      "text/html": [
       "<div>\n",
       "<style scoped>\n",
       "    .dataframe tbody tr th:only-of-type {\n",
       "        vertical-align: middle;\n",
       "    }\n",
       "\n",
       "    .dataframe tbody tr th {\n",
       "        vertical-align: top;\n",
       "    }\n",
       "\n",
       "    .dataframe thead th {\n",
       "        text-align: right;\n",
       "    }\n",
       "</style>\n",
       "<table border=\"1\" class=\"dataframe\">\n",
       "  <thead>\n",
       "    <tr style=\"text-align: right;\">\n",
       "      <th></th>\n",
       "      <th>brewery_city</th>\n",
       "      <th>count</th>\n",
       "      <th>percentage</th>\n",
       "    </tr>\n",
       "  </thead>\n",
       "  <tbody>\n",
       "    <tr>\n",
       "      <th>3</th>\n",
       "      <td>Amsterdam</td>\n",
       "      <td>14</td>\n",
       "      <td>24.561404</td>\n",
       "    </tr>\n",
       "    <tr>\n",
       "      <th>52</th>\n",
       "      <td>Utrecht</td>\n",
       "      <td>9</td>\n",
       "      <td>15.789474</td>\n",
       "    </tr>\n",
       "    <tr>\n",
       "      <th>24</th>\n",
       "      <td>Haarlem</td>\n",
       "      <td>9</td>\n",
       "      <td>15.789474</td>\n",
       "    </tr>\n",
       "    <tr>\n",
       "      <th>23</th>\n",
       "      <td>Gulpen</td>\n",
       "      <td>5</td>\n",
       "      <td>8.771930</td>\n",
       "    </tr>\n",
       "    <tr>\n",
       "      <th>35</th>\n",
       "      <td>Leuven</td>\n",
       "      <td>5</td>\n",
       "      <td>8.771930</td>\n",
       "    </tr>\n",
       "    <tr>\n",
       "      <th>1</th>\n",
       "      <td>Achouffe</td>\n",
       "      <td>3</td>\n",
       "      <td>5.263158</td>\n",
       "    </tr>\n",
       "    <tr>\n",
       "      <th>26</th>\n",
       "      <td>Hilversum</td>\n",
       "      <td>3</td>\n",
       "      <td>5.263158</td>\n",
       "    </tr>\n",
       "    <tr>\n",
       "      <th>11</th>\n",
       "      <td>Bruges</td>\n",
       "      <td>3</td>\n",
       "      <td>5.263158</td>\n",
       "    </tr>\n",
       "    <tr>\n",
       "      <th>38</th>\n",
       "      <td>Mechelen</td>\n",
       "      <td>3</td>\n",
       "      <td>5.263158</td>\n",
       "    </tr>\n",
       "    <tr>\n",
       "      <th>7</th>\n",
       "      <td>Berkel-Enschot</td>\n",
       "      <td>3</td>\n",
       "      <td>5.263158</td>\n",
       "    </tr>\n",
       "  </tbody>\n",
       "</table>\n",
       "</div>"
      ],
      "text/plain": [
       "      brewery_city  count  percentage\n",
       "3        Amsterdam     14   24.561404\n",
       "52         Utrecht      9   15.789474\n",
       "24         Haarlem      9   15.789474\n",
       "23          Gulpen      5    8.771930\n",
       "35          Leuven      5    8.771930\n",
       "1         Achouffe      3    5.263158\n",
       "26       Hilversum      3    5.263158\n",
       "11          Bruges      3    5.263158\n",
       "38        Mechelen      3    5.263158\n",
       "7   Berkel-Enschot      3    5.263158"
      ]
     },
     "execution_count": 16,
     "metadata": {},
     "output_type": "execute_result"
    }
   ],
   "source": [
    "brewery_country_pd = beer_fil_pd.groupby('brewery_city')['beer_name'].count().reset_index().rename(columns={'beer_name': 'count'})\\\n",
    "    .sort_values('count', ascending=False).head(10)\n",
    "brewery_country_pd['percentage'] = (brewery_country_pd['count'] / brewery_country_pd['count'].sum())*100\n",
    "brewery_country_pd"
   ]
  },
  {
   "cell_type": "code",
   "execution_count": 14,
   "metadata": {},
   "outputs": [
    {
     "data": {
      "text/html": [
       "<div>\n",
       "<style scoped>\n",
       "    .dataframe tbody tr th:only-of-type {\n",
       "        vertical-align: middle;\n",
       "    }\n",
       "\n",
       "    .dataframe tbody tr th {\n",
       "        vertical-align: top;\n",
       "    }\n",
       "\n",
       "    .dataframe thead th {\n",
       "        text-align: right;\n",
       "    }\n",
       "</style>\n",
       "<table border=\"1\" class=\"dataframe\">\n",
       "  <thead>\n",
       "    <tr style=\"text-align: right;\">\n",
       "      <th></th>\n",
       "      <th>brewery_state</th>\n",
       "      <th>count</th>\n",
       "    </tr>\n",
       "  </thead>\n",
       "  <tbody>\n",
       "    <tr>\n",
       "      <th>14</th>\n",
       "      <td>Noord-Holland</td>\n",
       "      <td>31</td>\n",
       "    </tr>\n",
       "    <tr>\n",
       "      <th>21</th>\n",
       "      <td>Vlaanderen</td>\n",
       "      <td>30</td>\n",
       "    </tr>\n",
       "    <tr>\n",
       "      <th>19</th>\n",
       "      <td>Utrecht</td>\n",
       "      <td>10</td>\n",
       "    </tr>\n",
       "    <tr>\n",
       "      <th>22</th>\n",
       "      <td>Wallonie</td>\n",
       "      <td>9</td>\n",
       "    </tr>\n",
       "    <tr>\n",
       "      <th>10</th>\n",
       "      <td>Limburg</td>\n",
       "      <td>8</td>\n",
       "    </tr>\n",
       "    <tr>\n",
       "      <th>13</th>\n",
       "      <td>Noord-Brabant</td>\n",
       "      <td>5</td>\n",
       "    </tr>\n",
       "    <tr>\n",
       "      <th>24</th>\n",
       "      <td>Zuid-Holland</td>\n",
       "      <td>5</td>\n",
       "    </tr>\n",
       "    <tr>\n",
       "      <th>7</th>\n",
       "      <td>Gelderland</td>\n",
       "      <td>3</td>\n",
       "    </tr>\n",
       "    <tr>\n",
       "      <th>17</th>\n",
       "      <td>Overijssel</td>\n",
       "      <td>2</td>\n",
       "    </tr>\n",
       "    <tr>\n",
       "      <th>15</th>\n",
       "      <td>Nordrhein-Westfalen</td>\n",
       "      <td>2</td>\n",
       "    </tr>\n",
       "  </tbody>\n",
       "</table>\n",
       "</div>"
      ],
      "text/plain": [
       "          brewery_state  count\n",
       "14        Noord-Holland     31\n",
       "21           Vlaanderen     30\n",
       "19              Utrecht     10\n",
       "22             Wallonie      9\n",
       "10              Limburg      8\n",
       "13        Noord-Brabant      5\n",
       "24         Zuid-Holland      5\n",
       "7            Gelderland      3\n",
       "17           Overijssel      2\n",
       "15  Nordrhein-Westfalen      2"
      ]
     },
     "execution_count": 14,
     "metadata": {},
     "output_type": "execute_result"
    }
   ],
   "source": [
    "brewery_state_pd = beer_fil_pd.groupby('brewery_state')['beer_name'].count().reset_index().rename(columns={'beer_name': 'count'})\\\n",
    "    .sort_values('count', ascending=False).head(10)\n",
    "brewery_state_pd['percentage'] = (brewery_state_pd['count'] / brewery_state_pd['count'].sum())*100\n",
    "brewery_state_pd"
   ]
  },
  {
   "cell_type": "code",
   "execution_count": 19,
   "metadata": {},
   "outputs": [
    {
     "data": {
      "text/html": [
       "<div>\n",
       "<style scoped>\n",
       "    .dataframe tbody tr th:only-of-type {\n",
       "        vertical-align: middle;\n",
       "    }\n",
       "\n",
       "    .dataframe tbody tr th {\n",
       "        vertical-align: top;\n",
       "    }\n",
       "\n",
       "    .dataframe thead th {\n",
       "        text-align: right;\n",
       "    }\n",
       "</style>\n",
       "<table border=\"1\" class=\"dataframe\">\n",
       "  <thead>\n",
       "    <tr style=\"text-align: right;\">\n",
       "      <th></th>\n",
       "      <th>country_name</th>\n",
       "      <th>count</th>\n",
       "      <th>percentage</th>\n",
       "    </tr>\n",
       "  </thead>\n",
       "  <tbody>\n",
       "    <tr>\n",
       "      <th>4</th>\n",
       "      <td>Netherlands</td>\n",
       "      <td>69</td>\n",
       "      <td>53.90625</td>\n",
       "    </tr>\n",
       "    <tr>\n",
       "      <th>0</th>\n",
       "      <td>Belgium</td>\n",
       "      <td>42</td>\n",
       "      <td>32.81250</td>\n",
       "    </tr>\n",
       "    <tr>\n",
       "      <th>1</th>\n",
       "      <td>Germany</td>\n",
       "      <td>5</td>\n",
       "      <td>3.90625</td>\n",
       "    </tr>\n",
       "    <tr>\n",
       "      <th>9</th>\n",
       "      <td>United States</td>\n",
       "      <td>4</td>\n",
       "      <td>3.12500</td>\n",
       "    </tr>\n",
       "    <tr>\n",
       "      <th>2</th>\n",
       "      <td>Greece</td>\n",
       "      <td>2</td>\n",
       "      <td>1.56250</td>\n",
       "    </tr>\n",
       "    <tr>\n",
       "      <th>7</th>\n",
       "      <td>Scotland</td>\n",
       "      <td>2</td>\n",
       "      <td>1.56250</td>\n",
       "    </tr>\n",
       "    <tr>\n",
       "      <th>3</th>\n",
       "      <td>Ireland</td>\n",
       "      <td>1</td>\n",
       "      <td>0.78125</td>\n",
       "    </tr>\n",
       "    <tr>\n",
       "      <th>5</th>\n",
       "      <td>Poland</td>\n",
       "      <td>1</td>\n",
       "      <td>0.78125</td>\n",
       "    </tr>\n",
       "    <tr>\n",
       "      <th>6</th>\n",
       "      <td>Portugal</td>\n",
       "      <td>1</td>\n",
       "      <td>0.78125</td>\n",
       "    </tr>\n",
       "    <tr>\n",
       "      <th>8</th>\n",
       "      <td>Spain</td>\n",
       "      <td>1</td>\n",
       "      <td>0.78125</td>\n",
       "    </tr>\n",
       "  </tbody>\n",
       "</table>\n",
       "</div>"
      ],
      "text/plain": [
       "    country_name  count  percentage\n",
       "4    Netherlands     69    53.90625\n",
       "0        Belgium     42    32.81250\n",
       "1        Germany      5     3.90625\n",
       "9  United States      4     3.12500\n",
       "2         Greece      2     1.56250\n",
       "7       Scotland      2     1.56250\n",
       "3        Ireland      1     0.78125\n",
       "5         Poland      1     0.78125\n",
       "6       Portugal      1     0.78125\n",
       "8          Spain      1     0.78125"
      ]
     },
     "execution_count": 19,
     "metadata": {},
     "output_type": "execute_result"
    }
   ],
   "source": [
    "brewery_country_pd = beer_fil_pd.groupby('country_name')['beer_name'].count().reset_index().rename(columns={'beer_name': 'count'})\\\n",
    "    .sort_values('count', ascending=False).head(10)\n",
    "brewery_country_pd['percentage'] = (brewery_country_pd['count'] / brewery_country_pd['count'].sum())*100\n",
    "brewery_country_pd"
   ]
  },
  {
   "cell_type": "markdown",
   "metadata": {},
   "source": [
    "# Datawrapper"
   ]
  },
  {
   "cell_type": "markdown",
   "metadata": {},
   "source": [
    "Creating a locator map: https://developer.datawrapper.de/docs/creating-a-locator-map"
   ]
  },
  {
   "cell_type": "markdown",
   "metadata": {},
   "source": [
    "## Create map"
   ]
  },
  {
   "cell_type": "code",
   "execution_count": null,
   "metadata": {},
   "outputs": [],
   "source": [
    "dw_url = \"https://api.datawrapper.de/v3/charts\"\n",
    "dw_headers = {\n",
    "    'Authorization': f'Bearer {DATAWRAPPER_TOKEN}',\n",
    "    'content-type': 'application/json'\n",
    "}\n",
    "data_create = {\n",
    "    \"title\": \"Beer Club\", \n",
    "    \"type\": \"locator-map\"\n",
    "}\n",
    "\n",
    "response = requests.post(dw_url, headers=dw_headers, json=data_create)\n",
    "chart_id = response.json()['id']"
   ]
  },
  {
   "cell_type": "markdown",
   "metadata": {},
   "source": [
    "## Place pin"
   ]
  },
  {
   "cell_type": "code",
   "execution_count": null,
   "metadata": {},
   "outputs": [],
   "source": [
    "dw_url = f\"https://api.datawrapper.de/v3/charts/{chart_id}/data\"\n",
    "dw_headers = {\n",
    "    'Authorization': f'Bearer {DATAWRAPPER_TOKEN}',\n",
    "    'content-type': 'text/csv'\n",
    "}\n",
    "\n",
    "markers = []\n",
    "\n",
    "for _, row in beer_loc.iterrows():\n",
    "    markers.append({\n",
    "            \"type\": \"point\",\n",
    "            \"title\": row['brewery_name'],\n",
    "            \"tooltip\": {\n",
    "                \"enabled\": False, \n",
    "                \"text\": \"Brewery: {0}\\nAlcoholpercentage: {1}\".format(row['brewery_name'], row['beer_abv'])},\n",
    "            \"icon\": {\n",
    "                \"id\": \"locator\",\n",
    "                \"path\": \"M714 487a367 367 0 0 0-32-151c-56-125-325-486-325-486s-268 361-325 486a367 367 0 0 0-32 151 360 360 0 0 0 357 363 360 360 0 0 0 357-363z\",\n",
    "                \"horiz-adv-x\": 714,\n",
    "                \"vCenter\": 0,\n",
    "                \"textBaseline\": 475,\n",
    "                \"scale\": 1.3,\n",
    "                \"height\": 734.1012497777449,\n",
    "                \"width\": 713.9999999999997},\n",
    "            \"scale\": 1,\n",
    "            \"markerColor\": \"#cc0000\",\n",
    "            \"anchor\": \"middle-right\",\n",
    "            \"offsetY\": 0,\n",
    "            \"offsetX\": 0,\n",
    "            \"text\": {\n",
    "            \"color\": \"#333333\",\n",
    "            \"fontSize\": 17,\n",
    "            \"halo\": \"#f2f3f0\"\n",
    "            },\n",
    "            \"rotate\": 0,\n",
    "            \"visible\": True,\n",
    "            \"visibility\": {\n",
    "            \"mobile\": True,\n",
    "            \"desktop\": True\n",
    "            },\n",
    "            \"coordinates\": [\n",
    "                row['lng'], \n",
    "                row['lat']\n",
    "            ]\n",
    "        })\n",
    "    \n",
    "dw_json = { \"markers\": markers }\n",
    "\n",
    "requests.put(dw_url, headers=dw_headers, json=dw_json)"
   ]
  },
  {
   "cell_type": "markdown",
   "metadata": {},
   "source": [
    "## Tweak description, zoom and other details"
   ]
  },
  {
   "cell_type": "code",
   "execution_count": null,
   "metadata": {},
   "outputs": [],
   "source": [
    "dw_url = f'https://api.datawrapper.de/v3/charts/{chart_id}'\n",
    "dw_headers = {\n",
    "    'Authorization': f'Bearer {DATAWRAPPER_TOKEN}',\n",
    "    'content-type': 'application/json'\n",
    "}\n",
    "dw_data = {\n",
    "    \"metadata\": {\n",
    "        \"describe\": {\n",
    "              \"intro\": \"All beers from the Beer Club\",\n",
    "              \"byline\": \"Data Intelligence, RTL\"\n",
    "          }\n",
    "    }\n",
    "}\n",
    "\n",
    "response = requests.patch(dw_url, headers=dw_headers, json=dw_data)"
   ]
  },
  {
   "cell_type": "code",
   "execution_count": null,
   "metadata": {},
   "outputs": [],
   "source": [
    "dw_url = f'https://api.datawrapper.de/v3/charts/{chart_id}'\n",
    "dw_headers = {\n",
    "    'Authorization': f'Bearer {DATAWRAPPER_TOKEN}',\n",
    "    'content-type': 'application/json'\n",
    "}\n",
    "\n",
    "# Western World\n",
    "dw_data = {\n",
    "    \"metadata\": {\n",
    "        \"visualize\": {\n",
    "            \"view\": {\n",
    "                \"bbox\": [\n",
    "                    [-138, -9],\n",
    "                    [60, 68]\n",
    "                ],\n",
    "                \"zoom\": 1,\n",
    "                \"pitch\": 0,\n",
    "                \"center\": [-37, 40],\n",
    "                'height': 50\n",
    "            }\n",
    "        }\n",
    "    }\n",
    "}\n",
    "# Benelux\n",
    "dw_data = {\n",
    "    \"metadata\": {\n",
    "        \"visualize\": {\n",
    "               'view': {'bbox': [[1.9935443395971788, 50.58007704402837],\n",
    "     [8.114292247008905, 53.43626246536874]],\n",
    "    'zoom': 6,\n",
    "    'pitch': 0,\n",
    "    'center': [5.05391829330506, 52.0309679816439],\n",
    "    'height': 75,\n",
    "    'bearing': 1},\n",
    "#             \"view\": {\n",
    "#                 \"bbox\": [\n",
    "#                     [2, 50],\n",
    "#                     [10, 54]\n",
    "#                 ],\n",
    "#                 \"zoom\": 1,\n",
    "#                 \"pitch\": 0,\n",
    "#                 \"center\": [6, 52],\n",
    "#                 'height': 75,\n",
    "#                 'bearing': 1\n",
    "#             },\n",
    "            'style': 'dw-earth',\n",
    "            'visibility': {\n",
    "                'green': True,\n",
    "                'roads': True,\n",
    "                'urban': True,\n",
    "                'water': True,\n",
    "                'building': True,\n",
    "                'mountains': False,\n",
    "                'building3d': False,\n",
    "                'boundary_state': False,\n",
    "                'boundary_country': True\n",
    "            }\n",
    "        }\n",
    "    }\n",
    "}\n",
    "\n",
    "response = requests.patch(dw_url, headers=dw_headers, json=dw_data)"
   ]
  },
  {
   "cell_type": "markdown",
   "metadata": {},
   "source": [
    "## Publish chart"
   ]
  },
  {
   "cell_type": "code",
   "execution_count": null,
   "metadata": {},
   "outputs": [],
   "source": [
    "dw_url = f'https://api.datawrapper.de/v3/charts/{chart_id}/publish'\n",
    "dw_headers = {'Authorization': f'Bearer {DATAWRAPPER_TOKEN}'}\n",
    "\n",
    "response = requests.post(dw_url, headers=dw_headers)"
   ]
  },
  {
   "cell_type": "code",
   "execution_count": null,
   "metadata": {},
   "outputs": [],
   "source": [
    "# Get properties published map\n",
    "dw_url = f'https://api.datawrapper.de/v3/charts/{chart_id}'\n",
    "dw_headers = {'Authorization': f'Bearer {DATAWRAPPER_TOKEN}'}\n",
    "\n",
    "response = requests.get(dw_url, headers=dw_headers)"
   ]
  },
  {
   "cell_type": "code",
   "execution_count": null,
   "metadata": {},
   "outputs": [],
   "source": []
  }
 ],
 "metadata": {
  "kernelspec": {
   "display_name": "Python 3",
   "language": "python",
   "name": "python3"
  },
  "language_info": {
   "codemirror_mode": {
    "name": "ipython",
    "version": 3
   },
   "file_extension": ".py",
   "mimetype": "text/x-python",
   "name": "python",
   "nbconvert_exporter": "python",
   "pygments_lexer": "ipython3",
   "version": "3.7.7"
  }
 },
 "nbformat": 4,
 "nbformat_minor": 4
}
